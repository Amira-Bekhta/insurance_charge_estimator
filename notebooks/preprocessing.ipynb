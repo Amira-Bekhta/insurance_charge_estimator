{
 "cells": [
  {
   "cell_type": "code",
   "execution_count": 1,
   "metadata": {},
   "outputs": [],
   "source": [
    "import sys\n",
    "import os\n",
    "\n",
    "sys.path.append(os.path.abspath('../src'))\n",
    "\n",
    "from data_load import load, save"
   ]
  },
  {
   "cell_type": "code",
   "execution_count": 2,
   "metadata": {},
   "outputs": [],
   "source": [
    "data = load(\"Medical_insurance\", \"raw\", False) # Load raw data"
   ]
  },
  {
   "cell_type": "code",
   "execution_count": 5,
   "metadata": {},
   "outputs": [],
   "source": [
    "# Prepare numerical representations for each categorical variable\n",
    "sex = {\n",
    "    \"male\":0,\n",
    "    \"female\":1\n",
    "}\n",
    "smoker = {\n",
    "    \"no\":0,\n",
    "    \"yes\":1\n",
    "}\n",
    "region = {\n",
    "    \"northeast\":0,\n",
    "    \"northwest\":1,\n",
    "    \"southeast\":2,\n",
    "    \"southwest\":3\n",
    "}\n",
    "# Replace the values with numerical representations\n",
    "data = data.replace({\n",
    "    'sex': sex,\n",
    "    'smoker': smoker,\n",
    "    'region': region\n",
    "}).infer_objects(copy=False)"
   ]
  },
  {
   "cell_type": "code",
   "execution_count": 6,
   "metadata": {},
   "outputs": [],
   "source": [
    "save(data, \"processed\", False) # Save the new processed data"
   ]
  }
 ],
 "metadata": {
  "kernelspec": {
   "display_name": ".venv",
   "language": "python",
   "name": "python3"
  },
  "language_info": {
   "codemirror_mode": {
    "name": "ipython",
    "version": 3
   },
   "file_extension": ".py",
   "mimetype": "text/x-python",
   "name": "python",
   "nbconvert_exporter": "python",
   "pygments_lexer": "ipython3",
   "version": "3.13.1"
  }
 },
 "nbformat": 4,
 "nbformat_minor": 2
}
